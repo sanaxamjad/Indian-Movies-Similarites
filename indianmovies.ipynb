{
 "cells": [
  {
   "cell_type": "code",
   "execution_count": 1,
   "id": "21dd44e4-4637-4456-b8f3-48e670a723bd",
   "metadata": {},
   "outputs": [],
   "source": [
    "import pandas as pd\n",
    "from sklearn.metrics.pairwise import cosine_similarity\n",
    "from sklearn.feature_extraction.text import CountVectorizer"
   ]
  },
  {
   "cell_type": "code",
   "execution_count": 2,
   "id": "7560c676-3cd4-4b85-8a9f-81d383be32b2",
   "metadata": {},
   "outputs": [
    {
     "data": {
      "text/html": [
       "<div>\n",
       "<style scoped>\n",
       "    .dataframe tbody tr th:only-of-type {\n",
       "        vertical-align: middle;\n",
       "    }\n",
       "\n",
       "    .dataframe tbody tr th {\n",
       "        vertical-align: top;\n",
       "    }\n",
       "\n",
       "    .dataframe thead th {\n",
       "        text-align: right;\n",
       "    }\n",
       "</style>\n",
       "<table border=\"1\" class=\"dataframe\">\n",
       "  <thead>\n",
       "    <tr style=\"text-align: right;\">\n",
       "      <th></th>\n",
       "      <th>ID</th>\n",
       "      <th>Movie Name</th>\n",
       "      <th>Year</th>\n",
       "      <th>Timing(min)</th>\n",
       "      <th>Rating(10)</th>\n",
       "      <th>Votes</th>\n",
       "      <th>Genre</th>\n",
       "      <th>Language</th>\n",
       "    </tr>\n",
       "  </thead>\n",
       "  <tbody>\n",
       "    <tr>\n",
       "      <th>0</th>\n",
       "      <td>tt0398974</td>\n",
       "      <td>Dr. Shaitan</td>\n",
       "      <td>1960</td>\n",
       "      <td>-</td>\n",
       "      <td>-</td>\n",
       "      <td>-</td>\n",
       "      <td>-</td>\n",
       "      <td>hindi</td>\n",
       "    </tr>\n",
       "    <tr>\n",
       "      <th>1</th>\n",
       "      <td>tt1702558</td>\n",
       "      <td>Nadir Khan</td>\n",
       "      <td>1968</td>\n",
       "      <td>-</td>\n",
       "      <td>-</td>\n",
       "      <td>-</td>\n",
       "      <td>-</td>\n",
       "      <td>urdu</td>\n",
       "    </tr>\n",
       "    <tr>\n",
       "      <th>2</th>\n",
       "      <td>tt0493437</td>\n",
       "      <td>Apna Sapna Money Money</td>\n",
       "      <td>2006</td>\n",
       "      <td>134 min</td>\n",
       "      <td>5.3</td>\n",
       "      <td>1,892</td>\n",
       "      <td>Comedy, Musical, Romance</td>\n",
       "      <td>hindi</td>\n",
       "    </tr>\n",
       "    <tr>\n",
       "      <th>3</th>\n",
       "      <td>tt0273405</td>\n",
       "      <td>Aag Aur Sholay</td>\n",
       "      <td>1987</td>\n",
       "      <td>-</td>\n",
       "      <td>2.2</td>\n",
       "      <td>20</td>\n",
       "      <td>-</td>\n",
       "      <td>urdu</td>\n",
       "    </tr>\n",
       "    <tr>\n",
       "      <th>4</th>\n",
       "      <td>tt0049595</td>\n",
       "      <td>Parivar</td>\n",
       "      <td>1956</td>\n",
       "      <td>-</td>\n",
       "      <td>7.4</td>\n",
       "      <td>21</td>\n",
       "      <td>Comedy, Drama, Family</td>\n",
       "      <td>hindi</td>\n",
       "    </tr>\n",
       "  </tbody>\n",
       "</table>\n",
       "</div>"
      ],
      "text/plain": [
       "          ID              Movie Name  Year Timing(min) Rating(10)  Votes  \\\n",
       "0  tt0398974             Dr. Shaitan  1960           -          -      -   \n",
       "1  tt1702558              Nadir Khan  1968           -          -      -   \n",
       "2  tt0493437  Apna Sapna Money Money  2006     134 min        5.3  1,892   \n",
       "3  tt0273405          Aag Aur Sholay  1987           -        2.2     20   \n",
       "4  tt0049595                 Parivar  1956           -        7.4     21   \n",
       "\n",
       "                                  Genre Language  \n",
       "0                                     -    hindi  \n",
       "1                                     -     urdu  \n",
       "2  Comedy, Musical, Romance                hindi  \n",
       "3                                     -     urdu  \n",
       "4     Comedy, Drama, Family                hindi  "
      ]
     },
     "execution_count": 2,
     "metadata": {},
     "output_type": "execute_result"
    }
   ],
   "source": [
    "# Load the dataset\n",
    "movies_df = pd.read_csv('indian_movies.csv')\n",
    "\n",
    "# Display the first few rows to understand the structure\n",
    "movies_df.head()\n"
   ]
  },
  {
   "cell_type": "code",
   "execution_count": 5,
   "id": "6f3c4b7d-bcb7-4bb3-8612-891389512145",
   "metadata": {},
   "outputs": [],
   "source": [
    "# Combine relevant features for similarity assessment\n",
    "# Here we can use both 'Movie Name' and 'Genre' as a combined feature\n",
    "movies_df['combined'] = movies_df['Movie Name'] + ' ' + movies_df['Genre']\n"
   ]
  },
  {
   "cell_type": "code",
   "execution_count": 7,
   "id": "b22b2588-29d8-4843-9fe1-58b7624e8bb3",
   "metadata": {},
   "outputs": [],
   "source": [
    "# Initialize the Count Vectorizer\n",
    "vectorizer = CountVectorizer(stop_words='english')\n",
    "\n",
    "# Fit and transform the combined features\n",
    "combined_matrix = vectorizer.fit_transform(movies_df['combined'])\n"
   ]
  },
  {
   "cell_type": "code",
   "execution_count": 9,
   "id": "2e445233-4073-4c7c-a142-f797130f84d0",
   "metadata": {},
   "outputs": [],
   "source": [
    "# Calculate the cosine similarity matrix for the combined features\n",
    "cosine_similarities = cosine_similarity(combined_matrix)\n"
   ]
  },
  {
   "cell_type": "code",
   "execution_count": 10,
   "id": "fd10ce81-35eb-4d55-9b2e-0453ce6fa1d7",
   "metadata": {},
   "outputs": [],
   "source": [
    "# Function to get the top N similar movies\n",
    "def get_similar_movies(movie_title, cosine_sim, movies_df, top_n=10):\n",
    "    # Get the index of the movie that matches the title\n",
    "    idx = movies_df.index[movies_df['Movie Name'] == movie_title].tolist()[0]\n",
    "    \n",
    "    # Get the pairwise similarity scores of all movies with that movie\n",
    "    sim_scores = list(enumerate(cosine_sim[idx]))\n",
    "    \n",
    "    # Sort the movies based on the similarity scores\n",
    "    sim_scores = sorted(sim_scores, key=lambda x: x[1], reverse=True)\n",
    "    \n",
    "    # Get the scores of the 10 most similar movies\n",
    "    sim_scores = sim_scores[1:top_n+1]\n",
    "    \n",
    "    # Get the movie indices\n",
    "    movie_indices = [i[0] for i in sim_scores]\n",
    "    \n",
    "    # Return the top 10 most similar movies\n",
    "    return movies_df.iloc[movie_indices]\n"
   ]
  },
  {
   "cell_type": "code",
   "execution_count": 17,
   "id": "6bf3bed9-5011-4688-b34f-9b962d8a3a7e",
   "metadata": {},
   "outputs": [],
   "source": [
    "# Retrieve and display top 10 similar movies for each query\n",
    "queries = ['Dilwale Dulhania Le Jayenge', 'Chennai Express', 'Kabir Singh']  # Use movie names that exist in your dataset\n",
    "results = {}\n",
    "\n",
    "for query in queries:\n",
    "    try:\n",
    "        results[query] = get_similar_movies(query, cosine_similarities, movies_df)\n",
    "    except IndexError:\n",
    "        print(f\"Movie '{query}' not found in the dataset.\")\n"
   ]
  },
  {
   "cell_type": "code",
   "execution_count": 19,
   "id": "6ec9862c-9363-4ca7-813a-42ae6e5d201a",
   "metadata": {},
   "outputs": [
    {
     "name": "stdout",
     "output_type": "stream",
     "text": [
      "\n",
      "Top 10 movies similar to 'Dilwale Dulhania Le Jayenge':\n",
      "                         Movie Name                               Genre\n",
      "46003  Dilwale Dulhaniya Le Jayenge                 Romance            \n",
      "29123         Dulhan Hum Le Jayenge  Comedy, Drama, Romance            \n",
      "40829                       Dilwale  Action, Drama, Romance            \n",
      "2749                     Once Again          Drama, Romance            \n",
      "8023                     Be with Me          Drama, Romance            \n",
      "22297                   Le Halua Le  Comedy, Drama, Romance            \n",
      "26648                       Someone          Drama, Romance            \n",
      "48293                    Do Dilwale                 Romance            \n",
      "37188         Dulhan Hum Le Jayenge                   Drama            \n",
      "48617         Badrinath Ki Dulhania  Comedy, Drama, Romance            \n",
      "\n",
      "Top 10 movies similar to 'Chennai Express':\n",
      "            Movie Name                                  Genre\n",
      "23843  Chennai Express  Action, Adventure, Comedy            \n",
      "4478          Maharaja  Action, Adventure, Comedy            \n",
      "4686          Kohinoor  Action, Adventure, Comedy            \n",
      "4957             Zabak  Action, Adventure, Comedy            \n",
      "8338              Boni  Action, Adventure, Comedy            \n",
      "9500             Zabak  Action, Adventure, Comedy            \n",
      "9868             Zorro  Action, Adventure, Comedy            \n",
      "11339           Heroes  Action, Adventure, Comedy            \n",
      "12038        Rajaratha  Action, Adventure, Comedy            \n",
      "12053         Bachaana  Action, Adventure, Comedy            \n",
      "\n",
      "Top 10 movies similar to 'Kabir Singh':\n",
      "       Movie Name                               Genre\n",
      "3470        C.I.D  Action, Drama, Romance            \n",
      "523       Borbaad  Action, Drama, Romance            \n",
      "774         Jawab  Action, Drama, Romance            \n",
      "894         Daava  Action, Drama, Romance            \n",
      "1251        Sanam  Action, Drama, Romance            \n",
      "1292       Takkar  Action, Drama, Romance            \n",
      "1411        Tarak  Action, Drama, Romance            \n",
      "1724     Commando  Action, Drama, Romance            \n",
      "2027    The Rally  Action, Drama, Romance            \n",
      "2842  Chinnabbayi  Drama, Action, Romance            \n"
     ]
    }
   ],
   "source": [
    "# Display results\n",
    "for query, similar_movies in results.items():\n",
    "    print(f\"\\nTop 10 movies similar to '{query}':\")\n",
    "    print(similar_movies[['Movie Name', 'Genre']])  # Display titles and genres\n"
   ]
  },
  {
   "cell_type": "code",
   "execution_count": null,
   "id": "1930b35e-42c4-4394-a04c-ba46dbac2a5e",
   "metadata": {},
   "outputs": [],
   "source": []
  }
 ],
 "metadata": {
  "kernelspec": {
   "display_name": "Python 3 (ipykernel)",
   "language": "python",
   "name": "python3"
  },
  "language_info": {
   "codemirror_mode": {
    "name": "ipython",
    "version": 3
   },
   "file_extension": ".py",
   "mimetype": "text/x-python",
   "name": "python",
   "nbconvert_exporter": "python",
   "pygments_lexer": "ipython3",
   "version": "3.12.4"
  }
 },
 "nbformat": 4,
 "nbformat_minor": 5
}
